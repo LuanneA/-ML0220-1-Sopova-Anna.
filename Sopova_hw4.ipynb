{
 "cells": [
  {
   "cell_type": "markdown",
   "metadata": {},
   "source": [
    "### Алгоритмы интеллектуальной обработки больших объемов данных\n",
    "## Домашнее задание №4 - Градиентный бустинг\n"
   ]
  },
  {
   "cell_type": "markdown",
   "metadata": {},
   "source": [
    "**Общая информация**\n",
    "\n",
    "**Срок сдачи:** 10 мая 2021, 08:30   \n",
    "**Штраф за опоздание:** -2 балла после 08:30 10 мая, -4 балла после 08:30 17 мая, -6 баллов после 08:30 24 мая, -8 баллов после 08:30 31 мая.\n",
    "\n",
    "При отправлении ДЗ указывайте фамилию в названии файла Присылать ДЗ необходимо в виде ссылки на свой github репозиторий на почту ml1.sphere@mail.ru с указанием темы в следующем формате:\n",
    "[ML0221, Задание 4] Фамилия Имя. \n",
    "\n",
    "\n",
    "Используйте данный Ipython Notebook при оформлении домашнего задания."
   ]
  },
  {
   "cell_type": "markdown",
   "metadata": {},
   "source": [
    "##  Считаем производные для функций потерь (1 балл)"
   ]
  },
  {
   "cell_type": "markdown",
   "metadata": {},
   "source": [
    "Мы будем реализовать градиентный бустинг для 3 функций потерь:\n",
    "\n",
    "1) MSE  $L(a(x_i), y_i) = (y_i - a(x_i)) ^ 2$\n",
    "\n",
    "2) Экспоненциальная  $L(a(x_i), y_i) = exp( -a(x_i) y_i), y_i \\in \\{-1, 1\\}$\n",
    "\n",
    "3) Логистическая  $L(a(x_i), y_i) = \\log (1 + exp( -a(x_i) y_i)), y_i \\in \\{-1, 1\\}$\n",
    "\n",
    "где $a(x_i)$ предсказание бустинга на итом объекте. \n",
    "\n",
    "Для каждой функции потерь напишите таргет, на который будет настраиваться каждое дерево в бустинге. "
   ]
  },
  {
   "cell_type": "markdown",
   "metadata": {},
   "source": [
    "Ваше решение тут:\n",
    "1) $ 2(y_i - a_{t-1}(x_i))$\n",
    "\n",
    "\n",
    "2) $ y_i exp( -a_{t-1}(x_i) y_i) $\n",
    "\n",
    "\n",
    "3) $ \\frac{y_i exp( -a_{t-1}(x_i) y_i)} {\\log (1 + exp( -a_{t-1}(x_i) y_i))}   $"
   ]
  },
  {
   "cell_type": "markdown",
   "metadata": {},
   "source": [
    "##  Реализуем градиентный бустинг (3 балла)"
   ]
  },
  {
   "cell_type": "markdown",
   "metadata": {},
   "source": [
    "Реализуйте класс градиентного бустинга для классификации. Ваша реализация бустинга должна работать по точности не более чем на 5 процентов хуже чем GradientBoostingClassifier из sklearn. \n"
   ]
  },
  {
   "cell_type": "markdown",
   "metadata": {},
   "source": [
    "Детали реализации:\n",
    "\n",
    "-- должно поддерживаться 3 функции потерь\n",
    "\n",
    "-- сами базовые алгоритмы(деревья, линейные модели и тп) реализовать не надо, просто возьмите готовые из sklearn\n",
    "\n",
    "-- в качестве функции потерь для построения одного дерева используйте MSE\n",
    "\n",
    "-- шаг в бустинге можно не подбирать, можно брать константный\n",
    "\n",
    "-- можно брать разные модели в качестве инициализации бустинга\n",
    "\n",
    "-- должны поддерживаться следующие параметры:\n",
    "\n",
    "а) число итераций\n",
    "б) размер шага\n",
    "в) процент случайных фичей при построении одного дерева\n",
    "д) процент случайных объектов при построении одного дерева\n",
    "е) параметры базового алгоритма (передавайте через **kwargs)"
   ]
  },
  {
   "cell_type": "code",
   "execution_count": 1,
   "metadata": {},
   "outputs": [],
   "source": [
    "import warnings\n",
    "warnings.filterwarnings(\"ignore\")"
   ]
  },
  {
   "cell_type": "code",
   "execution_count": 2,
   "metadata": {},
   "outputs": [],
   "source": [
    "import numpy as np\n",
    "import random\n",
    "from sklearn.datasets import load_wine\n",
    "from sklearn.ensemble import GradientBoostingClassifier\n",
    "from sklearn.metrics import accuracy_score\n",
    "from sklearn.model_selection import train_test_split\n",
    "from sklearn.tree import DecisionTreeRegressor"
   ]
  },
  {
   "cell_type": "code",
   "execution_count": 42,
   "metadata": {},
   "outputs": [],
   "source": [
    "from sklearn.base import BaseEstimator, ClassifierMixin\n",
    "class MyGradientBoostingClassifier():\n",
    "\n",
    "    def __init__(self, loss = 'MSE', learning_rate = 0.1, n_estimators = 5, colsample = 40, subsample = 50, *args, **kwargs):\n",
    "        \"\"\"\n",
    "        loss -- один из 3 лоссов:\n",
    "        learning_rate -- шаг бустинга\n",
    "        n_estimators -- число итераций\n",
    "        colsample -- процент рандомных признаков при обучнеии одного алгоритма\n",
    "        colsample -- процент рандомных объектов при обучнеии одного алгоритма\n",
    "        args, kwargs -- параметры  базовых моделей\n",
    "        \"\"\"\n",
    "        # Ваш код здесь\n",
    "        self.loss = loss\n",
    "        self.learning_rate = learning_rate\n",
    "        self.n_estimators = n_estimators\n",
    "        self.colsample = colsample\n",
    "        self.subsample = subsample\n",
    "        self.args = args\n",
    "        self.kwargs = kwargs\n",
    "        self.models = []\n",
    "        self.features = []\n",
    "        self.init = 0\n",
    "        self.init_model = None\n",
    "    \n",
    "    def fit(self, X, y, base_model, init_model=None):\n",
    "        \"\"\"\n",
    "        X -- объекты для обучения:\n",
    "        y -- таргеты для обучения\n",
    "        base_model -- класс базовых моделей, например sklearn.tree.DecisionTreeRegressor\n",
    "        init_model -- класс для первой модели, если None то берем константу (только для посл задания)\n",
    "        \"\"\"\n",
    "        # Ваш код здесь\n",
    "        if init_model is None:\n",
    "            self.init = y.mean()\n",
    "            f = [self.init] * y.shape[0]\n",
    "            f =  np.array(f)\n",
    "        else:\n",
    "            clf = init_model(*self.args, **self.kwargs)\n",
    "            clf.fit(X,y)\n",
    "            self.models.append(clf)\n",
    "            self.features.append(list(range(X.shape[1])))\n",
    "            f = np.array(clf.predict(X))\n",
    "            self.init_model = clf\n",
    "\n",
    "        for n in range(self.n_estimators):\n",
    "            num_of_features = list(range(X.shape[1]))\n",
    "            random.shuffle(num_of_features)\n",
    "            count_of_features = round(X.shape[1] * self.colsample / 100)\n",
    "            num_of_features = num_of_features[:count_of_features]\n",
    "            Xfeatures = X[:, num_of_features]\n",
    "            self.features.append(num_of_features)\n",
    "            \n",
    "            num_of_objects = list(range(X.shape[0]))\n",
    "            random.shuffle(num_of_objects)\n",
    "            count_of_objects = round(X.shape[0] * self.subsample / 100)\n",
    "            num_of_objects = num_of_objects[:count_of_objects]\n",
    "            X_subsample = Xfeatures[num_of_objects,:]\n",
    "            y_subsample = y[num_of_objects]\n",
    "            f_subsample = f[num_of_objects]\n",
    "            \n",
    "            if self.loss == 'MSE':\n",
    "                target = 2 * (y_subsample - f_subsample)\n",
    "            if self.loss == 'exp':\n",
    "                target =  y_subsample * np.exp(- y_subsample * f_subsample)\n",
    "            if self.loss == 'log':\n",
    "                target = y_subsample * np.exp(- y_subsample * f_subsample) / (1 + np.exp(- y_subsample * f_subsample))\n",
    "                \n",
    "            clf = base_model(*self.args, **self.kwargs)\n",
    "            clf.fit(X_subsample, target)\n",
    "            self.models.append(clf)\n",
    "            f = f + self.learning_rate * np.array(clf.predict(Xfeatures))\n",
    "        \n",
    "    def predict(self, X):\n",
    "        # Ваш код здесь\n",
    "        if self.init != 0:\n",
    "            pred = np.array([self.init] * X.shape[0])\n",
    "        else:\n",
    "            pred = np.array(self.init_model.predict(X)).astype(float)\n",
    "        for n in range(self.n_estimators):\n",
    "            pred += self.learning_rate * self.models[n].predict(X[:, self.features[n]])\n",
    "        return  np.round(pred)\n",
    "\n"
   ]
  },
  {
   "cell_type": "code",
   "execution_count": 8,
   "metadata": {},
   "outputs": [],
   "source": [
    "my_clf = MyGradientBoostingClassifier()\n",
    "clf = GradientBoostingClassifier()"
   ]
  },
  {
   "cell_type": "code",
   "execution_count": 9,
   "metadata": {},
   "outputs": [],
   "source": [
    "wine = load_wine()\n",
    "X_train, X_test, y_train, y_test = train_test_split(wine.data, wine.target, test_size=0.1, stratify=wine.target)"
   ]
  },
  {
   "cell_type": "code",
   "execution_count": 10,
   "metadata": {},
   "outputs": [
    {
     "name": "stdout",
     "output_type": "stream",
     "text": [
      "0.8888888888888888\n",
      "0.8888888888888888\n"
     ]
    }
   ],
   "source": [
    "my_clf.fit(X_train, y_train, base_model = DecisionTreeRegressor)\n",
    "clf.fit(X_train, y_train)\n",
    "print(accuracy_score(y_pred=clf.predict(X_test), y_true=y_test))\n",
    "print(accuracy_score(y_pred=my_clf.predict(X_test), y_true=y_test))"
   ]
  },
  {
   "cell_type": "markdown",
   "metadata": {},
   "source": [
    "## Подбираем параметры (2 балла)\n",
    "\n",
    "Давайте попробуем применить Ваш бустинг для предсказаний цены домов в Калифорнии. Чтобы можно было попробовтаь разные функции потерь, переведем по порогу таргет в 2 класса: дорогие и дешевые дома."
   ]
  },
  {
   "cell_type": "markdown",
   "metadata": {},
   "source": [
    "В задании нужно\n",
    "\n",
    "1) Построить график точности в зависимости от числа итераций на валидации.\n",
    "\n",
    "2) Подобрать оптимальные параметры Вашего бустинга на валидации. \n"
   ]
  },
  {
   "cell_type": "code",
   "execution_count": 11,
   "metadata": {},
   "outputs": [],
   "source": [
    "from sklearn.datasets import fetch_california_housing\n",
    "X, y = fetch_california_housing(return_X_y=True)"
   ]
  },
  {
   "cell_type": "code",
   "execution_count": 12,
   "metadata": {},
   "outputs": [
    {
     "name": "stdout",
     "output_type": "stream",
     "text": [
      "(20640, 8) (20640,)\n"
     ]
    }
   ],
   "source": [
    "# Превращаем регрессию в классификацию\n",
    "y = (y > 2.0).astype(int)\n",
    "print(X.shape, y.shape)"
   ]
  },
  {
   "cell_type": "code",
   "execution_count": 13,
   "metadata": {},
   "outputs": [],
   "source": [
    "X_train, X_test, y_train, y_test = train_test_split(X, y, test_size=0.1)"
   ]
  },
  {
   "cell_type": "code",
   "execution_count": 17,
   "metadata": {},
   "outputs": [],
   "source": [
    "num_of_iter = [2, 5, 7, 10, 15, 20]\n",
    "accuracy = []\n",
    "for n in num_of_iter:\n",
    "    my_clf = MyGradientBoostingClassifier(n_estimators = n)\n",
    "    my_clf.fit(X_train, y_train, base_model = DecisionTreeRegressor)\n",
    "    accuracy.append(accuracy_score(y_pred=my_clf.predict(X_test), y_true=y_test))"
   ]
  },
  {
   "cell_type": "code",
   "execution_count": 18,
   "metadata": {},
   "outputs": [
    {
     "data": {
      "text/plain": [
       "Text(0.5, 1.0, 'Зависимость точности от числа итераций')"
      ]
     },
     "execution_count": 18,
     "metadata": {},
     "output_type": "execute_result"
    },
    {
     "data": {
      "image/png": "[encoded data removed]",
      "text/plain": [
       "<Figure size 432x288 with 1 Axes>"
      ]
     },
     "metadata": {
      "needs_background": "light"
     },
     "output_type": "display_data"
    }
   ],
   "source": [
    "import matplotlib.pyplot as plt\n",
    "fig,axes = plt.subplots(1,1,figsize = (6,4))\n",
    "plt.plot(num_of_iter, accuracy, color='b')\n",
    "axes.set_xlabel(u'Число итераций',fontsize = 10)\n",
    "axes.set_ylabel(u'Точность',fontsize = 10)\n",
    "axes.set_title(u'Зависимость точности от числа итераций',fontsize = 10)\n"
   ]
  },
  {
   "cell_type": "markdown",
   "metadata": {},
   "source": [
    "Слегка редактируем исходный классификатор, чтобы положить в GridSearchCV"
   ]
  },
  {
   "cell_type": "code",
   "execution_count": 20,
   "metadata": {},
   "outputs": [],
   "source": [
    "from sklearn.base import BaseEstimator, ClassifierMixin\n",
    "class MyGradientBoostingClassifier(BaseEstimator, ClassifierMixin):\n",
    "\n",
    "    def __init__(self, loss = 'MSE', learning_rate = 0.1, n_estimators = 5, colsample = 40, subsample = 50):\n",
    "        \"\"\"\n",
    "        loss -- один из 3 лоссов:\n",
    "        learning_rate -- шаг бустинга\n",
    "        n_estimators -- число итераций\n",
    "        colsample -- процент рандомных признаков при обучнеии одного алгоритма\n",
    "        colsample -- процент рандомных объектов при обучнеии одного алгоритма\n",
    "        args, kwargs -- параметры  базовых моделей\n",
    "        \"\"\"\n",
    "        # Ваш код здесь\n",
    "        self.loss = loss\n",
    "        self.learning_rate = learning_rate\n",
    "        self.n_estimators = n_estimators\n",
    "        self.colsample = colsample\n",
    "        self.subsample = subsample\n",
    "        #self.args = args\n",
    "        #self.kwargs = kwargs\n",
    "        self.models = []\n",
    "        self.features = []\n",
    "        self.init = 0\n",
    "        \n",
    "    \n",
    "    def fit(self, X, y, base_model, init_model=None):\n",
    "        \"\"\"\n",
    "        X -- объекты для обучения:\n",
    "        y -- таргеты для обучения\n",
    "        base_model -- класс базовых моделей, например sklearn.tree.DecisionTreeRegressor\n",
    "        init_model -- класс для первой модели, если None то берем константу (только для посл задания)\n",
    "        \"\"\"\n",
    "        # Ваш код здесь\n",
    "        if init_model is None:\n",
    "            self.init = y.mean()\n",
    "            f = [self.init] * y.shape[0]\n",
    "            f =  np.array(f)\n",
    "        else:\n",
    "            clf = init_model()\n",
    "            clf.fit(X,y)\n",
    "            self.models.append(clf)\n",
    "            self.features.append(list(range(X.shape[1])))\n",
    "            f = np.array(clf.predict(X))\n",
    "\n",
    "        for n in range(self.n_estimators):\n",
    "            num_of_features = list(range(X.shape[1]))\n",
    "            random.shuffle(num_of_features)\n",
    "            count_of_features = round(X.shape[1] * self.colsample / 100)\n",
    "            num_of_features = num_of_features[:count_of_features]\n",
    "            Xfeatures = X[:, num_of_features]\n",
    "            self.features.append(num_of_features)\n",
    "            \n",
    "            num_of_objects = list(range(X.shape[0]))\n",
    "            random.shuffle(num_of_objects)\n",
    "            count_of_objects = round(X.shape[0] * self.subsample / 100)\n",
    "            num_of_objects = num_of_objects[:count_of_objects]\n",
    "            X_subsample = Xfeatures[num_of_objects,:]\n",
    "            y_subsample = y[num_of_objects]\n",
    "            f_subsample = f[num_of_objects]\n",
    "            \n",
    "            if self.loss == 'MSE':\n",
    "                target = 2 * (y_subsample - f_subsample)\n",
    "            if self.loss == 'exp':\n",
    "                target =  y_subsample * np.exp(- y_subsample * f_subsample)\n",
    "            if self.loss == 'log':\n",
    "                target = y_subsample * np.exp(- y_subsample * f_subsample) / (1 + np.exp(- y_subsample * f_subsample))\n",
    "                \n",
    "            clf = base_model()\n",
    "            clf.fit(X_subsample, target)\n",
    "            self.models.append(clf)\n",
    "            f = f + self.learning_rate * np.array(clf.predict(Xfeatures))\n",
    "        \n",
    "    def predict(self, X):\n",
    "        # Ваш код здесь\n",
    "        pred = np.array([self.init] * X.shape[0])\n",
    "        for n in range(self.n_estimators):\n",
    "            pred += self.learning_rate * self.models[n].predict(X[:, self.features[n]])\n",
    "        return  np.round(pred)\n",
    "\n",
    "\n"
   ]
  },
  {
   "cell_type": "code",
   "execution_count": 21,
   "metadata": {},
   "outputs": [
    {
     "data": {
      "text/plain": [
       "GridSearchCV(estimator=MyGradientBoostingClassifier(n_estimators=7),\n",
       "             param_grid={'colsample': [30, 40, 50, 60],\n",
       "                         'learning_rate': [0.05, 0.1, 0.15, 0.2],\n",
       "                         'loss': ['MSE', 'exp', 'log'],\n",
       "                         'subsample': [30, 40, 50, 60]},\n",
       "             scoring='accuracy')"
      ]
     },
     "execution_count": 21,
     "metadata": {},
     "output_type": "execute_result"
    }
   ],
   "source": [
    "from sklearn.model_selection import GridSearchCV\n",
    "loss = ['MSE', 'exp', 'log']\n",
    "learning_rate = [0.05, 0.1, 0.15, 0.2]\n",
    "colsample = [30, 40, 50, 60]\n",
    "subsample = [30, 40, 50, 60]\n",
    "clf = MyGradientBoostingClassifier(n_estimators = 7)\n",
    "searcher = GridSearchCV(clf, param_grid = {'loss': loss,'learning_rate': learning_rate, 'colsample': colsample, 'subsample': subsample},\n",
    "                        scoring='accuracy')\n",
    "\n",
    "searcher.fit(X_train, y_train, base_model = DecisionTreeRegressor)"
   ]
  },
  {
   "cell_type": "code",
   "execution_count": 22,
   "metadata": {},
   "outputs": [
    {
     "data": {
      "text/plain": [
       "{'colsample': 60, 'learning_rate': 0.05, 'loss': 'log', 'subsample': 50}"
      ]
     },
     "execution_count": 22,
     "metadata": {},
     "output_type": "execute_result"
    }
   ],
   "source": [
    "searcher.best_params_"
   ]
  },
  {
   "cell_type": "code",
   "execution_count": 23,
   "metadata": {},
   "outputs": [
    {
     "data": {
      "text/plain": [
       "0.8658475299421802"
      ]
     },
     "execution_count": 23,
     "metadata": {},
     "output_type": "execute_result"
    }
   ],
   "source": [
    "searcher.best_score_"
   ]
  },
  {
   "cell_type": "markdown",
   "metadata": {},
   "source": [
    "## BooBag BagBoo (1 балл)\n",
    "\n"
   ]
  },
  {
   "cell_type": "markdown",
   "metadata": {},
   "source": [
    "Попробуем объединить бустинг и бэгинг. Давайте\n",
    "\n",
    "1) в качестве базовой модели брать не дерево решений, а случайный лес (из sklearn)\n",
    "\n",
    "2) обучать N бустингов на бустрапированной выборке, а затем предикт усреднять"
   ]
  },
  {
   "cell_type": "markdown",
   "metadata": {},
   "source": [
    "Попробуйте обе этих стратегии на данных из прошлого задания. Получилось ли улучшить качество? Почему?"
   ]
  },
  {
   "cell_type": "code",
   "execution_count": 43,
   "metadata": {},
   "outputs": [],
   "source": [
    "from sklearn.ensemble import RandomForestRegressor"
   ]
  },
  {
   "cell_type": "code",
   "execution_count": 46,
   "metadata": {},
   "outputs": [],
   "source": [
    "my_clf = MyGradientBoostingClassifier(loss = 'log', colsample = 60, subsample= 50, learning_rate = 0.05, n_estimators = 7)\n",
    "my_clf.fit(X_train, y_train, base_model = RandomForestRegressor)"
   ]
  },
  {
   "cell_type": "code",
   "execution_count": 47,
   "metadata": {},
   "outputs": [
    {
     "name": "stdout",
     "output_type": "stream",
     "text": [
      "0.872093023255814\n"
     ]
    }
   ],
   "source": [
    "print(accuracy_score(y_pred=my_clf.predict(X_test), y_true=y_test))"
   ]
  },
  {
   "cell_type": "markdown",
   "metadata": {},
   "source": [
    "1) Качество улучшилось, что видно даже без подборка по сетке. Случайный лес дает усложение модели.\n"
   ]
  },
  {
   "cell_type": "code",
   "execution_count": 55,
   "metadata": {},
   "outputs": [],
   "source": [
    "X_train, X_test, y_train, y_test = train_test_split(X, y, test_size=0.1)"
   ]
  },
  {
   "cell_type": "code",
   "execution_count": 56,
   "metadata": {},
   "outputs": [
    {
     "name": "stdout",
     "output_type": "stream",
     "text": [
      "0.8837209302325582\n"
     ]
    }
   ],
   "source": [
    "pred = np.ones([X_test.shape[0]]) * y_train.mean()\n",
    "for n in range(20):\n",
    "    num_of_objects = list(range(X_train.shape[0]))\n",
    "    random.shuffle(num_of_objects)\n",
    "    count_of_objects = round(X.shape[0] * 50 / 100)\n",
    "    num_of_objects = num_of_objects[:count_of_objects]\n",
    "    X_subsample = X_train[num_of_objects,:]\n",
    "    y_subsample = y_train[num_of_objects]\n",
    "    my_clf = MyGradientBoostingClassifier(loss = 'log', colsample = 60, subsample= 50, learning_rate = 0.05, n_estimators = 7)\n",
    "    my_clf.fit(X_subsample, y_subsample, DecisionTreeRegressor)\n",
    "    pred += my_clf.predict(X_test)\n",
    "pred = np.round(pred / 20)\n",
    "print(accuracy_score(y_pred=pred, y_true=y_test))"
   ]
  },
  {
   "cell_type": "markdown",
   "metadata": {},
   "source": [
    "2) Аналогично качество улучшается. Так как модель усложняется. "
   ]
  },
  {
   "cell_type": "markdown",
   "metadata": {
    "collapsed": true
   },
   "source": [
    "## Умная инициализация (1 балл)\n",
    "\n",
    "Попробуйте брать в качестве инициализации бустинга не константу, а какой-то алгоритм и уже от его предикта стартовать итерации бустинга. Попробуйте разные модели из sklearn: линейные модели, рандом форест, svm..\n",
    "\n",
    "Получилось ли улучшить качество? Почему?\n",
    "\n"
   ]
  },
  {
   "cell_type": "code",
   "execution_count": 57,
   "metadata": {},
   "outputs": [],
   "source": [
    "from sklearn import linear_model\n",
    "from sklearn.svm import SVC"
   ]
  },
  {
   "cell_type": "code",
   "execution_count": 60,
   "metadata": {},
   "outputs": [],
   "source": [
    "X_train, X_test, y_train, y_test = train_test_split(X, y, test_size=0.1)"
   ]
  },
  {
   "cell_type": "markdown",
   "metadata": {},
   "source": [
    "## Logistic model"
   ]
  },
  {
   "cell_type": "code",
   "execution_count": 66,
   "metadata": {},
   "outputs": [
    {
     "name": "stdout",
     "output_type": "stream",
     "text": [
      "0.8091085271317829\n"
     ]
    }
   ],
   "source": [
    "my_clf = MyGradientBoostingClassifier(loss = 'log', colsample = 60, subsample= 50, learning_rate = 0.05, n_estimators = 7)\n",
    "my_clf.fit(X_train, y_train, DecisionTreeRegressor, init_model=linear_model.LogisticRegression)\n",
    "print(accuracy_score(y_pred=my_clf.predict(X_test), y_true=y_test))"
   ]
  },
  {
   "cell_type": "markdown",
   "metadata": {},
   "source": [
    "## RandomForestRegressor"
   ]
  },
  {
   "cell_type": "code",
   "execution_count": 64,
   "metadata": {},
   "outputs": [
    {
     "name": "stdout",
     "output_type": "stream",
     "text": [
      "0.8798449612403101\n"
     ]
    }
   ],
   "source": [
    "my_clf = MyGradientBoostingClassifier(loss = 'log', colsample = 60, subsample= 50, learning_rate = 0.05, n_estimators = 7)\n",
    "my_clf.fit(X_train, y_train, DecisionTreeRegressor, init_model=RandomForestRegressor)\n",
    "print(accuracy_score(y_pred=my_clf.predict(X_test), y_true=y_test))"
   ]
  },
  {
   "cell_type": "markdown",
   "metadata": {},
   "source": [
    "## SVM"
   ]
  },
  {
   "cell_type": "code",
   "execution_count": 67,
   "metadata": {},
   "outputs": [
    {
     "name": "stdout",
     "output_type": "stream",
     "text": [
      "0.5876937984496124\n"
     ]
    }
   ],
   "source": [
    "my_clf = MyGradientBoostingClassifier(loss = 'log', colsample = 60, subsample= 50, learning_rate = 0.05, n_estimators = 7)\n",
    "my_clf.fit(X_train, y_train, DecisionTreeRegressor, init_model=SVC)\n",
    "print(accuracy_score(y_pred=my_clf.predict(X_test), y_true=y_test))"
   ]
  },
  {
   "cell_type": "markdown",
   "metadata": {},
   "source": [
    "Качество улучшается, но не на всех моделях. Возможно для улучшения нужно подбирать параметры для инициализирующей модели на валидации. "
   ]
  },
  {
   "cell_type": "markdown",
   "metadata": {},
   "source": [
    "## Фидбек (бесценно)"
   ]
  },
  {
   "cell_type": "markdown",
   "metadata": {},
   "source": [
    "* Какие аспекты обучения  ансамблей Вам показались непонятными? Какое место стоит дополнительно объяснить?"
   ]
  },
  {
   "cell_type": "markdown",
   "metadata": {},
   "source": [
    "### Ваш ответ здесь"
   ]
  },
  {
   "cell_type": "markdown",
   "metadata": {},
   "source": [
    "* Здесь Вы можете оставить отзыв о этой домашней работе или о всем курсе."
   ]
  },
  {
   "cell_type": "markdown",
   "metadata": {},
   "source": [
    "### ВАШ ОТЗЫВ ЗДЕСЬ\n",
    "\n"
   ]
  },
  {
   "cell_type": "code",
   "execution_count": null,
   "metadata": {},
   "outputs": [],
   "source": []
  }
 ],
 "metadata": {
  "anaconda-cloud": {},
  "kernelspec": {
   "display_name": "Python 3",
   "language": "python",
   "name": "python3"
  },
  "language_info": {
   "codemirror_mode": {
    "name": "ipython",
    "version": 3
   },
   "file_extension": ".py",
   "mimetype": "text/x-python",
   "name": "python",
   "nbconvert_exporter": "python",
   "pygments_lexer": "ipython3",
   "version": "3.8.5"
  }
 },
 "nbformat": 4,
 "nbformat_minor": 2
}
